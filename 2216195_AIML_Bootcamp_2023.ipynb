{
  "nbformat": 4,
  "nbformat_minor": 0,
  "metadata": {
    "colab": {
      "provenance": [],
      "toc_visible": true,
      "authorship_tag": "ABX9TyPf907F22oLmeMzd0Gy4kpc",
      "include_colab_link": true
    },
    "kernelspec": {
      "name": "python3",
      "display_name": "Python 3"
    },
    "language_info": {
      "name": "python"
    }
  },
  "cells": [
    {
      "cell_type": "markdown",
      "metadata": {
        "id": "view-in-github",
        "colab_type": "text"
      },
      "source": [
        "<a href=\"https://colab.research.google.com/github/GumpulaSriharshini/CANTEEN-MANAGEMENT-SYSTEM/blob/main/2216195_AIML_Bootcamp_2023.ipynb\" target=\"_parent\"><img src=\"https://colab.research.google.com/assets/colab-badge.svg\" alt=\"Open In Colab\"/></a>"
      ]
    },
    {
      "cell_type": "code",
      "execution_count": 15,
      "metadata": {
        "id": "Ny8nxcEy18Q4"
      },
      "outputs": [],
      "source": []
    },
    {
      "cell_type": "code",
      "source": [
        "#lists\n",
        "a=list()\n",
        "a.append(10)\n",
        "print(a)\n",
        "a.extend([20,30,40,50,60])\n",
        "print(a)\n",
        "a.insert(5,55)\n",
        "print(a)\n",
        "s=a.copy()\n",
        "print(\"copy=\",s)\n",
        "a.remove(20)\n",
        "print(a)\n",
        "a.pop()\n",
        "a=[40,1,4,7,9,4]\n",
        "a.sort()\n",
        "print(a)\n",
        "a.reverse()\n",
        "print(a)\n",
        "a.count(10)\n",
        "a.clear()\n",
        "print(a)\n"
      ],
      "metadata": {
        "colab": {
          "base_uri": "https://localhost:8080/"
        },
        "id": "ujweJQGi3EoH",
        "outputId": "7e8ec3f8-5d61-49df-a455-7c486c7a0915"
      },
      "execution_count": 18,
      "outputs": [
        {
          "output_type": "stream",
          "name": "stdout",
          "text": [
            "[10]\n",
            "[10, 20, 30, 40, 50, 60]\n",
            "[10, 20, 30, 40, 50, 55, 60]\n",
            "copy= [10, 20, 30, 40, 50, 55, 60]\n",
            "[10, 30, 40, 50, 55, 60]\n",
            "[1, 4, 4, 7, 9, 40]\n",
            "[40, 9, 7, 4, 4, 1]\n",
            "[]\n"
          ]
        }
      ]
    },
    {
      "cell_type": "code",
      "source": [
        "#strings\n",
        "str1=\"hello how are you\"\n",
        "str2=\"good morning \\tiam harshini \"\n",
        "str3=\"apple\"\n",
        "t=(\"har\",\"warangal\")\n",
        "print(\"captalize=\",str1.capitalize())\n",
        "print(\"casefold=\",str1.casefold())\n",
        "print(\"center=\",str1.center(40,\"*\"))\n",
        "print(\"count=\",str1.count(\"l\"))\n",
        "print(\"endswith=\",str1.endswith(\"y\"))\n",
        "print(\"expandtabs=\",str2.expandtabs(10))\n",
        "print(\"find=\",str1.find(\"ha\"))\n",
        "print(\"format=\",str2)\n",
        "print(\"isupper=\",str1.isupper())\n",
        "print(\"istitle=\",str1.istitle())\n",
        "print(\"isspace=\",str1.isspace())\n",
        "print(\"isprintable=\",str1.isprintable())\n",
        "print(\"isnumeric=\",str1.isnumeric())\n",
        "print(\"islower=\",str1.islower())\n",
        "print(\"isdigit=\",str1.isdigit())\n",
        "print(\"index=\",str1.index(\"h\"))\n",
        "print(\"join=\",\" \".join(t))\n",
        "print(\"ljust=\",str1.ljust(35,\"*\"))\n",
        "print(\"lower=\",str1.lower())\n",
        "print(\"lstrip=\",str3.lstrip())\n",
        "mytable=str1.maketrans(\"hr\",\"gm\")\n",
        "print(\"partition=\",str1.partition(\"ha\"))\n",
        "print(\"replace=\",str1.replace(\"ha\",\"gm\"))\n",
        "print(\"rfind=\",str1.rfind(\"ha\"))\n",
        "print(\"rindex=\",str1.rindex(\"h\"))\n",
        "print(\"rjust=\",str1.rjust(10))\n",
        "print(\"split=\",str1.split())\n",
        "print(\"splitlines=\",str1.splitlines())\n",
        "print(\"startswith=\",str1.startswith(\"gd mrng\"))\n",
        "print(\"strip=\",str3.strip())\n",
        "print(\"swapcase\",str1.swapcase())\n",
        "print(\"title=\",str1.title())\n",
        "print(\"upper=\",str1.upper())"
      ],
      "metadata": {
        "colab": {
          "base_uri": "https://localhost:8080/"
        },
        "id": "_UIWHSry6BEt",
        "outputId": "09af40eb-9cf0-4d04-e75d-5fc52cc118f3"
      },
      "execution_count": 19,
      "outputs": [
        {
          "output_type": "stream",
          "name": "stdout",
          "text": [
            "captalize= Hello how are you\n",
            "casefold= hello how are you\n",
            "center= ***********hello how are you************\n",
            "count= 2\n",
            "endswith= False\n",
            "expandtabs= good morning        iam harshini \n",
            "find= -1\n",
            "format= good morning \tiam harshini \n",
            "isupper= False\n",
            "istitle= False\n",
            "isspace= False\n",
            "isprintable= True\n",
            "isnumeric= False\n",
            "islower= True\n",
            "isdigit= False\n",
            "index= 0\n",
            "join= har warangal\n",
            "ljust= hello how are you******************\n",
            "lower= hello how are you\n",
            "lstrip= apple\n",
            "partition= ('hello how are you', '', '')\n",
            "replace= hello how are you\n",
            "rfind= -1\n",
            "rindex= 6\n",
            "rjust= hello how are you\n",
            "split= ['hello', 'how', 'are', 'you']\n",
            "splitlines= ['hello how are you']\n",
            "startswith= False\n",
            "strip= apple\n",
            "swapcase HELLO HOW ARE YOU\n",
            "title= Hello How Are You\n",
            "upper= HELLO HOW ARE YOU\n"
          ]
        }
      ]
    },
    {
      "cell_type": "code",
      "source": [
        "#tuples\n",
        "t=(29.8,\"harshini\",4,7,2,9,7)\n",
        "print(\"count=\",t.count(7))\n",
        "print(\"index=\",t.index(\"harshini\"))\n"
      ],
      "metadata": {
        "colab": {
          "base_uri": "https://localhost:8080/"
        },
        "id": "8rxgjEWa3IZe",
        "outputId": "f0a16a81-af25-42d0-d400-be30b79c1620"
      },
      "execution_count": 6,
      "outputs": [
        {
          "output_type": "stream",
          "name": "stdout",
          "text": [
            "count= 2\n",
            "index= 1\n"
          ]
        }
      ]
    },
    {
      "cell_type": "code",
      "source": [
        "#Dictionaries\n",
        "dict1={\"name\":\"harsh\",\"hallno\":2137,\"college\":\"sru\"}\n",
        "x=dict1.copy()\n",
        "print(\"copy=\",x)\n",
        "print(\"get=\",dict1.get(\"name\"))\n",
        "print(\"items\",dict1.items())\n",
        "print(\"keys=\",dict1.keys())\n",
        "dict1.pop(\"college\")\n",
        "print(\"pop=\",dict1)\n",
        "dict1.update({\"hallno\":2929})\n",
        "print(\"update=\",dict1)\n",
        "dict1.setdefault(\"name\",\"har\")\n",
        "print(\"popitem=\",dict1)\n",
        "print(\"values=\",dict1.values())\n",
        "dict1.clear()\n",
        "print(\"clear=\",dict1)"
      ],
      "metadata": {
        "colab": {
          "base_uri": "https://localhost:8080/"
        },
        "id": "zekgp3TX3R8R",
        "outputId": "f07b6cee-90b5-466e-83c7-d2d1105cfe44"
      },
      "execution_count": 7,
      "outputs": [
        {
          "output_type": "stream",
          "name": "stdout",
          "text": [
            "copy= {'name': 'harsh', 'hallno': 2137, 'college': 'sru'}\n",
            "get= harsh\n",
            "items dict_items([('name', 'harsh'), ('hallno', 2137), ('college', 'sru')])\n",
            "keys= dict_keys(['name', 'hallno', 'college'])\n",
            "pop= {'name': 'harsh', 'hallno': 2137}\n",
            "update= {'name': 'harsh', 'hallno': 2929}\n",
            "popitem= {'name': 'harsh', 'hallno': 2929}\n",
            "values= dict_values(['harsh', 2929])\n",
            "clear= {}\n"
          ]
        }
      ]
    },
    {
      "cell_type": "code",
      "source": [
        "#sets\n",
        "s={5,6,7,8}\n",
        "s1={2,9,5,\"hi\"}\n",
        "l=[3,6,9,12]\n",
        "print(l)\n",
        "sets=set(l)\n",
        "print(sets)\n",
        "s.update({8,9})\n",
        "print(s)\n",
        "s1.discard(\"har\")\n",
        "print(s1)\n",
        "s1.remove(9)\n",
        "print(s1)\n",
        "#set operataions\n",
        "a={5,6,7,8}\n",
        "b={3,4,5,23}\n",
        "#union\n",
        "print(a|b)\n",
        "print(a.union(b))\n",
        "print(b.union(a))\n",
        "#intersection\n",
        "print(a&b)\n",
        "print(a.intersection(b))\n",
        "print(b.intersection(a))\n",
        "#difference\n",
        "print(a-b)\n",
        "print(b-a)\n",
        "print(a.difference(b))\n",
        "print(b.difference(a))"
      ],
      "metadata": {
        "colab": {
          "base_uri": "https://localhost:8080/"
        },
        "id": "boCgjDq03xeU",
        "outputId": "8ba0a28c-46c5-4ae3-cb92-4e30b1d4cbd3"
      },
      "execution_count": 8,
      "outputs": [
        {
          "output_type": "stream",
          "name": "stdout",
          "text": [
            "[3, 6, 9, 12]\n",
            "{9, 3, 12, 6}\n",
            "{5, 6, 7, 8, 9}\n",
            "{9, 2, 'hi', 5}\n",
            "{2, 'hi', 5}\n",
            "{3, 4, 5, 6, 7, 8, 23}\n",
            "{3, 4, 5, 6, 7, 8, 23}\n",
            "{3, 4, 5, 6, 7, 8, 23}\n",
            "{5}\n",
            "{5}\n",
            "{5}\n",
            "{8, 6, 7}\n",
            "{3, 4, 23}\n",
            "{8, 6, 7}\n",
            "{3, 4, 23}\n"
          ]
        }
      ]
    },
    {
      "cell_type": "code",
      "source": [
        "#number conversions\n",
        "a=7\n",
        "print(\"binary=\",bin(a))\n",
        "print(\"octal=\",oct(a))\n",
        "print(\"hextadecimal=\",hex(a))\n"
      ],
      "metadata": {
        "colab": {
          "base_uri": "https://localhost:8080/"
        },
        "id": "wNQbkCrK33Pu",
        "outputId": "cf30809a-abe9-48f1-e290-b820ac79aef3"
      },
      "execution_count": 9,
      "outputs": [
        {
          "output_type": "stream",
          "name": "stdout",
          "text": [
            "binary= 0b111\n",
            "octal= 0o7\n",
            "hextadecimal= 0x7\n"
          ]
        }
      ]
    },
    {
      "cell_type": "code",
      "source": [
        "#arithmetic operators\n",
        "a=int(input(\"enter first number\"))\n",
        "b=int(input(\"enter second number\"))\n",
        "#addition\n",
        "print(\"a+b=\",a+b)\n",
        "#subtraction\n",
        "print(\"a-b=\",a-b)\n",
        "#multiplication\n",
        "print(\"a*b=\",a*b)\n",
        "#division\n",
        "print(\"a/b=\",a/b)\n",
        "#modulos\n",
        "print(\"a%b=\",a%b)\n",
        "#assignment operators\n",
        "a = 10\n",
        "a += 8\n",
        "print (\"a += 8 : \", a)\n",
        "a -= 8\n",
        "print (\"a -= 8 : \", a)\n",
        "a *= 8\n",
        "print (\"a *= 8 : \", a)\n",
        "a /= 8\n",
        "print (\"a /= 8 : \",a)\n",
        "a %= 4\n",
        "print (\"a %= 4 : \", a)\n",
        "a **= 2\n",
        "print (\"a **= 2 : \", a)\n",
        "a //= 3\n",
        "print (\"a //= 3 : \", a)\n",
        "#comparison operators\n",
        "a=int(input(\"enter first number\"))\n",
        "b=int(input(\"enter second number\"))\n",
        "print(\"a>b=\",a>b)\n",
        "print(\"a<b=\",a<b)\n",
        "print(\"a>=b=\",a>=b)\n",
        "print(\"a<=b=\",a<=b)\n",
        "print(\"a==b=\",a==b)\n",
        "print(\"a!=b=\",a!=b)\n",
        "#bitwise operators\n",
        "a=int(input(\"enter first number\"))\n",
        "b=int(input(\"enter second number\"))\n",
        "\n",
        "print(\"a&b=\",a&b)\n",
        "print(\"a|b=\",a|b)\n",
        "print(\"a^b=\",a^b)\n",
        "print(\"~a=\",~a)\n",
        "print(\"a<<2=\",a<<2)\n",
        "print(\"b>>1=\",b>>1)\n",
        "\n",
        "\n",
        "#logical\n",
        "a=int(input(\"enter first number\"))\n",
        "b=int(input(\"enter second number\"))\n",
        "print(\"aandb=\",a and b)\n",
        "print(\"aorb=\",a or b)\n",
        "print(\"not a=\",not a)\n",
        "print(\"not b=\",not b)\n",
        "\n",
        "#membership\n",
        "a=\"hello iam harshini\"\n",
        "print(\"harshini\" in a)\n",
        "print(\"siddu\" in a)\n",
        "print(\"har\" not in a)\n",
        "#identity operator\n",
        "x1=5\n",
        "y1=5\n",
        "x2=\"harshini\"\n",
        "print(x1 is y1)\n",
        "print(x2 is not y1)"
      ],
      "metadata": {
        "colab": {
          "base_uri": "https://localhost:8080/"
        },
        "id": "YTx8Guvj39S1",
        "outputId": "1ed1f0ec-5b2d-4b2c-eac0-c766eb255602"
      },
      "execution_count": 10,
      "outputs": [
        {
          "output_type": "stream",
          "name": "stdout",
          "text": [
            "enter first number5\n",
            "enter second number3\n",
            "a+b= 8\n",
            "a-b= 2\n",
            "a*b= 15\n",
            "a/b= 1.6666666666666667\n",
            "a%b= 2\n",
            "a += 8 :  18\n",
            "a -= 8 :  10\n",
            "a *= 8 :  80\n",
            "a /= 8 :  10.0\n",
            "a %= 4 :  2.0\n",
            "a **= 2 :  4.0\n",
            "a //= 3 :  1.0\n",
            "enter first number5\n",
            "enter second number2\n",
            "a>b= True\n",
            "a<b= False\n",
            "a>=b= True\n",
            "a<=b= False\n",
            "a==b= False\n",
            "a!=b= True\n",
            "enter first number9\n",
            "enter second number3\n",
            "a&b= 1\n",
            "a|b= 11\n",
            "a^b= 10\n",
            "~a= -10\n",
            "a<<2= 36\n",
            "b>>1= 1\n",
            "enter first number5\n",
            "enter second number1\n",
            "aandb= 1\n",
            "aorb= 5\n",
            "not a= False\n",
            "not b= False\n",
            "True\n",
            "False\n",
            "False\n",
            "True\n",
            "True\n"
          ]
        }
      ]
    },
    {
      "cell_type": "code",
      "source": [
        "#silcing\n",
        "list1=[\"rose\",\"jasmine\",2,24]\n",
        "print(\"list1=\",list1)\n",
        "print(list1[1::])\n",
        "print(list1[1:2])\n",
        "print(list1[::2])\n",
        "print(list1[::-2])\n",
        "print(list1[-1:-3])\n",
        "list2=[\"pen\",\"pencil\",\"bench\"]\n",
        "list3=(list1,list2)\n",
        "print(list3)\n",
        "print(list3[0][1][3])\n",
        "print(list3[1][2])\n",
        "print(list3[0][0][::2])\n",
        "print(list3[1][0][::2])\n",
        "\n"
      ],
      "metadata": {
        "colab": {
          "base_uri": "https://localhost:8080/"
        },
        "id": "vHKNBzEB4U2p",
        "outputId": "ae6a8134-a002-4852-ee2c-f5cb4fa0e537"
      },
      "execution_count": 11,
      "outputs": [
        {
          "output_type": "stream",
          "name": "stdout",
          "text": [
            "list1= ['rose', 'jasmine', 2, 24]\n",
            "['jasmine', 2, 24]\n",
            "['jasmine']\n",
            "['rose', 2]\n",
            "[24, 'jasmine']\n",
            "[]\n",
            "(['rose', 'jasmine', 2, 24], ['pen', 'pencil', 'bench'])\n",
            "m\n",
            "bench\n",
            "rs\n",
            "pn\n"
          ]
        }
      ]
    },
    {
      "cell_type": "code",
      "source": [
        "print('A series of character designated as one object known as a string'[::-1][4::3])\n",
        "print('----------')\n",
        "print('Welcome to python traing program'[3:10][::-1])\n",
        "\n",
        "\n",
        "     "
      ],
      "metadata": {
        "colab": {
          "base_uri": "https://localhost:8080/"
        },
        "id": "nvcZFVpC4dfm",
        "outputId": "7000a847-ee1a-4de8-b005-5c0486e2bd3c"
      },
      "execution_count": 12,
      "outputs": [
        {
          "output_type": "stream",
          "name": "stdout",
          "text": [
            "taawkcbe  tgerca  is\n",
            "----------\n",
            "ot emoc\n"
          ]
        }
      ]
    },
    {
      "cell_type": "code",
      "source": [
        "P_phrase=\"was it a car or a cat I saw\"\n",
        "print(P_phrase[::-1].upper())\n",
        "\n",
        "\n",
        "     "
      ],
      "metadata": {
        "colab": {
          "base_uri": "https://localhost:8080/"
        },
        "id": "p5bJqpoV4oq-",
        "outputId": "d1f7a1f2-808b-439c-b4bd-c18f62a32894"
      },
      "execution_count": 13,
      "outputs": [
        {
          "output_type": "stream",
          "name": "stdout",
          "text": [
            "WAS I TAC A RO RAC A TI SAW\n"
          ]
        }
      ]
    },
    {
      "cell_type": "code",
      "source": [
        "x=int(input())\n",
        "y=2*x\n",
        "print('Z'*x+'O'*y)\n",
        "     "
      ],
      "metadata": {
        "colab": {
          "base_uri": "https://localhost:8080/"
        },
        "id": "Lm1r6UwH4uJE",
        "outputId": "dc31ace9-c67c-43b3-a41c-e8a07a2cb8d1"
      },
      "execution_count": 14,
      "outputs": [
        {
          "output_type": "stream",
          "name": "stdout",
          "text": [
            "5\n",
            "ZZZZZOOOOOOOOOO\n"
          ]
        }
      ]
    }
  ]
}